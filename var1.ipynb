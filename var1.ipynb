{
 "cells": [
  {
   "cell_type": "code",
   "execution_count": null,
   "id": "af6e344e-9054-41b3-9c71-008f1e421f32",
   "metadata": {},
   "outputs": [],
   "source": [
    "//proces var8\n",
    "#include <cstdlib>\n",
    "#include <iostream>\n",
    "#include <fstream>\n",
    "#include <string>\n",
    "using namespace std;\n",
    "{\n",
    "    system((string(\"~/bin/acta \") + string(\"~/samples/var8/var8.cpp\") + \" > out.txt\").c_str());\n",
    "    ifstream file(\"out.txt\"); \n",
    "    for (string line; getline(file, line); )\n",
    "        cout << line << endl;\n",
    "    system(\"rm out.txt\");\n",
    " }"
   ]
  },
  {
   "cell_type": "code",
   "execution_count": null,
   "id": "ce1d0d0c",
   "metadata": {
    "vscode": {
     "languageId": "plaintext"
    }
   },
   "outputs": [],
   "source": [
    "#include <cstdlib>\n",
    "#include <iostream>\n",
    "#include <fstream>\n",
    "#include <string>\n",
    "using namespace std;\n",
    "{\n",
    "    system((string(\"g++ \") + string(\"~/samples/var8/var8.cpp\") + \" -I ~/lib -o var8 2> out.txt\").c_str());\n",
    "    ifstream file(\"out.txt\"); bool ok=true; for (string line; getline(file, line); ){cout << line << endl; ok = false;}\n",
    "    if(ok)cout << \"Compilation is Ok\";\n",
    "    system(\"rm out.txt\");\n",
    "}"
   ]
  },
  {
   "cell_type": "code",
   "execution_count": null,
   "id": "c581bd60",
   "metadata": {
    "vscode": {
     "languageId": "plaintext"
    }
   },
   "outputs": [],
   "source": [
    "!./var8"
   ]
  }
 ],
 "metadata": {
  "kernelspec": {
   "display_name": "C++11",
   "language": "C++11",
   "name": "xcpp11"
  },
  "language_info": {
   "codemirror_mode": "text/x-c++src",
   "file_extension": ".cpp",
   "mimetype": "text/x-c++src",
   "name": "c++",
   "version": "11"
  }
 },
 "nbformat": 4,
 "nbformat_minor": 5
}
